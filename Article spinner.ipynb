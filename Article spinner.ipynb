{
 "cells": [
  {
   "cell_type": "code",
   "execution_count": 2,
   "metadata": {
    "collapsed": true
   },
   "outputs": [],
   "source": [
    "import nltk \n",
    "import random \n",
    "import numpy as np \n",
    "from bs4 import BeautifulSoup  \n",
    "\n",
    "\n"
   ]
  },
  {
   "cell_type": "code",
   "execution_count": 3,
   "metadata": {
    "collapsed": false
   },
   "outputs": [],
   "source": [
    "#Reading positive reviews  \n",
    "positive_reviews = BeautifulSoup(open('./data/sentiment_analyzer/electronics/positive.review').read(),\"lxml\")\n",
    "positive_reviews = positive_reviews.findAll('review_text')"
   ]
  },
  {
   "cell_type": "code",
   "execution_count": 6,
   "metadata": {
    "collapsed": false
   },
   "outputs": [],
   "source": [
    "#Making a Trigram model and appending all possible middle word.\n",
    "trigrams = {} \n",
    "for review in positive_reviews: \n",
    "    s = review.text.lower()\n",
    "    tokens = nltk.tokenize.word_tokenize(s)\n",
    "    for i in range(len(tokens)-2):\n",
    "        k = (tokens[i],tokens[i+2])\n",
    "        if k not in trigrams: \n",
    "            trigrams[k] = [] \n",
    "        trigrams[k].append(tokens[i+1])"
   ]
  },
  {
   "cell_type": "code",
   "execution_count": 7,
   "metadata": {
    "collapsed": false
   },
   "outputs": [],
   "source": [
    "#Rearranging Trigram according to Probabilities of middle word \n",
    "trigrams_probabilities = {} \n",
    "for k,words in trigrams.items():\n",
    "    if len(set(words)) > 1:\n",
    "        d = {}\n",
    "        n = 0 \n",
    "        for w in words:\n",
    "            if w not in d:\n",
    "                d[w] = 0\n",
    "            d[w] +=1\n",
    "            n +=1\n",
    "        for w,c in d.iteritems():\n",
    "            d[w] = float(c)/n\n",
    "        trigrams_probabilities[k]=d "
   ]
  },
  {
   "cell_type": "code",
   "execution_count": 8,
   "metadata": {
    "collapsed": false
   },
   "outputs": [],
   "source": [
    "def random_sample(d):\n",
    "    r = random.random()\n",
    "    cummulative = 0\n",
    "    for w,p in d.items():\n",
    "        cummulative +=p \n",
    "        if r < cummulative:\n",
    "            return w"
   ]
  },
  {
   "cell_type": "code",
   "execution_count": 9,
   "metadata": {
    "collapsed": false
   },
   "outputs": [],
   "source": [
    "def test_spinner():\n",
    "    review = random.choice(positive_reviews)\n",
    "    s = review.text.lower()\n",
    "    print(\"Original:\") \n",
    "    print(s)\n",
    "    tokens = nltk.tokenize.word_tokenize(s)\n",
    "    for i in range(len(tokens)-2):\n",
    "        if random.random() <0.2: \n",
    "            k = (tokens[i],tokens[i+2]) \n",
    "            if k in trigrams_probabilities:\n",
    "                w = random_sample(trigrams_probabilities[k])\n",
    "                tokens[i+1]=w \n",
    "    print(\"Spun: \") \n",
    "    print(\" \".join(tokens).replace(\" .\",\".\").replace(\" '\",\"'\").replace(\"$ \",\"$\").replace(\" !\",\"!\"))\n",
    "        "
   ]
  },
  {
   "cell_type": "code",
   "execution_count": 10,
   "metadata": {
    "collapsed": false
   },
   "outputs": [
    {
     "name": "stdout",
     "output_type": "stream",
     "text": [
      "Original:\n",
      "\n",
      "this is my first time ever buying a really expensive mp3 player.  i bought it three weeks ago.  if i hadn't seen the creative zen vision:m, i probably would have bought the sandisk sansa e260.  i love being able to bring my cartoon/tv shows over to a friends house so we can watch them on the tv.  there is one problem i've had with it.  i'm not sure if anyone else has had this, but there is some slight static noise that happens once in a while when i'm listening to music.  i don't think it's the mp3s, because i've never ran into the problem with my other mp3 players.  if only they would've added the video cable for the tv and kept the charger, then i would've rated it a 5\n",
      "\n",
      "Spun: \n",
      "this is my first time ever buying a bit expensive mp3 player. i bought it three weeks ago. if i had n't seen the creative zen vision : zipper , i probably would have had the sandisk sansa e260. i love being opened to bring my cartoon/tv shows over to a friends house so we can watch them on the tv. there is one problem i've had with it. i'm not true if anyone else has had this , but it is some slight static noise that happens once in a while when i was listening to music , i do n't regret it's the mp3s , because i've never ran into the problem with my other mp3 players. if only they would've owned the video file for a month and kept the charger , then i would've rated it a 5\n"
     ]
    }
   ],
   "source": [
    "test_spinner()"
   ]
  },
  {
   "cell_type": "code",
   "execution_count": null,
   "metadata": {
    "collapsed": true
   },
   "outputs": [],
   "source": []
  }
 ],
 "metadata": {
  "kernelspec": {
   "display_name": "Python [py27]",
   "language": "python",
   "name": "Python [py27]"
  },
  "language_info": {
   "codemirror_mode": {
    "name": "ipython",
    "version": 2
   },
   "file_extension": ".py",
   "mimetype": "text/x-python",
   "name": "python",
   "nbconvert_exporter": "python",
   "pygments_lexer": "ipython2",
   "version": "2.7.12"
  }
 },
 "nbformat": 4,
 "nbformat_minor": 0
}
