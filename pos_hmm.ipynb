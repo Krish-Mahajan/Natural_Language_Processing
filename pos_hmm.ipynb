{
 "cells": [
  {
   "cell_type": "markdown",
   "metadata": {},
   "source": [
    "Python code for POS tagging. \n",
    "Implemented Viterbi algorithm "
   ]
  },
  {
   "cell_type": "code",
   "execution_count": 1,
   "metadata": {
    "collapsed": true
   },
   "outputs": [],
   "source": [
    "\n",
    "def get_data(split_sequences=False):\n",
    "    word2idx = {}  #Word Vocabulary with word as key and word_idx as value\n",
    "    tag2idx = {}   #Tag Vocabulary with Tag as key and Tag_idx as value\n",
    "    word_idx = 0   #counter for words\n",
    "    tag_idx = 0    #counter for tags\n",
    "    Xtrain = []    #Just for storing train sequences\n",
    "    Ytrain = []    #Just for storing test sequences \n",
    "    currentX = []  #to store word sequences (observed Data)\n",
    "    currentY = []  #to store tag sequences  (unobserved Data)\n",
    "    for line in open('./data/pos/train.txt'):\n",
    "        line = line.rstrip()\n",
    "        if line:\n",
    "            r = line.split()\n",
    "            word, tag, _ = r\n",
    "            if word not in word2idx:\n",
    "                word2idx[word] = word_idx\n",
    "                word_idx += 1\n",
    "            currentX.append(word2idx[word])\n",
    "            \n",
    "            if tag not in tag2idx: \n",
    "                tag2idx[tag] = tag_idx\n",
    "                tag_idx += 1\n",
    "            currentY.append(tag2idx[tag])\n",
    "        elif split_sequences:\n",
    "            Xtrain.append(currentX)\n",
    "            Ytrain.append(currentY)\n",
    "            currentX = []\n",
    "            currentY = []\n",
    "\n",
    "    if not split_sequences:\n",
    "        Xtrain = currentX\n",
    "        Ytrain = currentY\n",
    "\n",
    "    # load and score test data\n",
    "    Xtest = []\n",
    "    Ytest = []\n",
    "    currentX = []\n",
    "    currentY = []\n",
    "    for line in open('./data/pos/test.txt'):\n",
    "        line = line.rstrip()\n",
    "        if line:\n",
    "            r = line.split()\n",
    "            word, tag, _ = r\n",
    "            if word in word2idx:\n",
    "                currentX.append(word2idx[word])\n",
    "            else:\n",
    "                currentX.append(word_idx) # use this as unknown\n",
    "            currentY.append(tag2idx[tag])\n",
    "        elif split_sequences:\n",
    "            Xtest.append(currentX)\n",
    "            Ytest.append(currentY)\n",
    "            currentX = []\n",
    "            currentY = []\n",
    "    if not split_sequences:\n",
    "        Xtest = currentX\n",
    "        Ytest = currentY\n",
    "\n",
    "    return Xtrain, Ytrain, Xtest, Ytest, word2idx"
   ]
  },
  {
   "cell_type": "code",
   "execution_count": 55,
   "metadata": {
    "collapsed": false
   },
   "outputs": [],
   "source": [
    "\n",
    "import numpy as np\n",
    "import matplotlib.pyplot as plt\n",
    "\n",
    "class HMM:\n",
    "    def __init__(self, M):\n",
    "        self.M = M # number of hidden states\n",
    "    \n",
    "#     def log_likelihood(self, x):\n",
    "#         # returns log P(x | model)\n",
    "#         # using the forward part of the forward-backward algorithm\n",
    "#         T = len(x)\n",
    "#         scale = np.zeros(T)\n",
    "#         alpha = np.zeros((T, self.M))\n",
    "#         alpha[0] = self.pi*self.B[:,x[0]]\n",
    "#         scale[0] = alpha[0].sum()\n",
    "#         alpha[0] /= scale[0]\n",
    "#         for t in xrange(1, T):\n",
    "#             alpha_t_prime = alpha[t-1].dot(self.A) * self.B[:, x[t]]\n",
    "#             scale[t] = alpha_t_prime.sum()\n",
    "#             alpha[t] = alpha_t_prime / scale[t]\n",
    "#         return np.log(scale).sum()\n",
    "\n",
    "#     def log_likelihood_multi(self, X):\n",
    "#         return np.array([self.log_likelihood(x) for x in X])\n",
    "\n",
    "    def get_state_sequence(self, x):\n",
    "        # returns the most likely state sequence given observed sequence x\n",
    "        # using the Viterbi algorithm\n",
    "        T = len(x)\n",
    "        delta = np.zeros((T, self.M))\n",
    "        psi = np.zeros((T, self.M))\n",
    "        delta[0] = np.log(self.pi) + np.log(self.B[:,x[0]])\n",
    "        for t in xrange(1, T):\n",
    "            for j in xrange(self.M):\n",
    "                delta[t,j] = np.max(delta[t-1] + np.log(self.A[:,j])) + np.log(self.B[j, x[t]])\n",
    "                psi[t,j] = np.argmax(delta[t-1] + np.log(self.A[:,j]))\n",
    "\n",
    "        # backtrack\n",
    "        states = np.zeros(T, dtype=np.int32)\n",
    "        states[T-1] = np.argmax(delta[T-1])\n",
    "        for t in xrange(T-2, -1, -1):\n",
    "            states[t] = psi[t+1, states[t+1]]\n",
    "        return states\n",
    "\n",
    "\n",
    "\n"
   ]
  },
  {
   "cell_type": "code",
   "execution_count": 56,
   "metadata": {
    "collapsed": true
   },
   "outputs": [],
   "source": [
    "import numpy as np\n",
    "import matplotlib.pyplot as plt\n",
    "\n",
    "\n",
    "from sklearn.utils import shuffle\n",
    "from datetime import datetime\n",
    "from sklearn.metrics import f1_score\n",
    "\n",
    "def accuracy(T, Y):\n",
    "    # inputs are lists of lists\n",
    "    n_correct = 0\n",
    "    n_total = 0\n",
    "    for t, y in zip(T, Y):\n",
    "        n_correct += np.sum(t == y)\n",
    "        n_total += len(y)\n",
    "    return float(n_correct) / n_total\n",
    "\n",
    "\n",
    "def total_f1_score(T, Y):\n",
    "    # inputs are lists of lists\n",
    "    T = np.concatenate(T)\n",
    "    Y = np.concatenate(Y)\n",
    "    return f1_score(T, Y, average=None).mean()\n",
    "\n",
    "\n",
    "# def flatten(l):\n",
    "#     return [item for sublist in l for item in sublist]\n",
    "\n",
    "\n",
    "def main(smoothing=10e-2):\n",
    "    # X = words, Y = POS tags\n",
    "    Xtrain, Ytrain, Xtest, Ytest, word2idx = get_data(split_sequences=True)\n",
    "    V = len(word2idx) + 1\n",
    "\n",
    "    # find hidden state, transition matrix and pi\n",
    "    M = max(max(y) for y in Ytrain) + 1 #len(set(flatten(Ytrain))) (just to find total number of hiddent states)\n",
    "    A = np.ones((M, M))*smoothing # add-one smoothing\n",
    "    pi = np.zeros(M) \n",
    "    \n",
    "    for y in Ytrain:\n",
    "        pi[y[0]] += 1\n",
    "        for i in xrange(len(y)-1):\n",
    "            A[y[i], y[i+1]] += 1\n",
    "            \n",
    "    # turn it into a probability matrix\n",
    "    A /= A.sum(axis=1, keepdims=True) #state transition matrix\n",
    "    pi /= pi.sum() #emission matrix\n",
    "\n",
    "    # find the observation matrix\n",
    "    B = np.ones((M, V))*smoothing # add smoothing\n",
    "    for x, y in zip(Xtrain, Ytrain):\n",
    "        for xi, yi in zip(x, y):\n",
    "            B[yi, xi] += 1\n",
    "    B /= B.sum(axis=1, keepdims=True)\n",
    "\n",
    "    hmm = HMM(M)\n",
    "    hmm.pi = pi\n",
    "    hmm.A = A\n",
    "    hmm.B = B\n",
    "\n",
    "    # get predictions\n",
    "    Ptrain = []\n",
    "    for x in Xtrain:\n",
    "        p = hmm.get_state_sequence(x)\n",
    "        Ptrain.append(p)\n",
    "\n",
    "    Ptest = []\n",
    "    for x in Xtest:\n",
    "        p = hmm.get_state_sequence(x)\n",
    "        Ptest.append(p)\n",
    "\n",
    "    # print results\n",
    "    print \"train accuracy:\", accuracy(Ytrain, Ptrain)\n",
    "    print \"test accuracy:\", accuracy(Ytest, Ptest)\n",
    "    print \"train f1:\", total_f1_score(Ytrain, Ptrain)\n",
    "    print \"test f1:\", total_f1_score(Ytest, Ptest)"
   ]
  },
  {
   "cell_type": "code",
   "execution_count": 57,
   "metadata": {
    "collapsed": false
   },
   "outputs": [
    {
     "name": "stderr",
     "output_type": "stream",
     "text": [
      "/Users/KrishMahajan/anaconda/envs/py27/lib/python2.7/site-packages/ipykernel/__main__.py:33: RuntimeWarning: divide by zero encountered in log\n"
     ]
    },
    {
     "name": "stdout",
     "output_type": "stream",
     "text": [
      "train accuracy: 0.973753937854\n",
      "test accuracy: 0.928784009118\n",
      "train f1: 0.923527954605\n",
      "test f1: 0.862609207175\n"
     ]
    }
   ],
   "source": [
    "if __name__ == '__main__':\n",
    "    main()"
   ]
  },
  {
   "cell_type": "code",
   "execution_count": 2,
   "metadata": {
    "collapsed": false
   },
   "outputs": [],
   "source": [
    "Xtrain, Ytrain, Xtest, Ytest, word2idx = get_data(split_sequences=True)"
   ]
  },
  {
   "cell_type": "code",
   "execution_count": 5,
   "metadata": {
    "collapsed": true
   },
   "outputs": [],
   "source": [
    "import numpy as np"
   ]
  },
  {
   "cell_type": "code",
   "execution_count": 6,
   "metadata": {
    "collapsed": false
   },
   "outputs": [],
   "source": [
    "M = max(max(y) for y in Ytrain) + 1 #len(set(flatten(Ytrain)))\n",
    "A = np.ones((M, M))*(10e-2) # add-one smoothing\n",
    "pi = np.zeros(M)"
   ]
  },
  {
   "cell_type": "code",
   "execution_count": 9,
   "metadata": {
    "collapsed": false
   },
   "outputs": [
    {
     "data": {
      "text/plain": [
       "(44, 44)"
      ]
     },
     "execution_count": 9,
     "metadata": {},
     "output_type": "execute_result"
    }
   ],
   "source": [
    "A.shape"
   ]
  },
  {
   "cell_type": "code",
   "execution_count": 11,
   "metadata": {
    "collapsed": false
   },
   "outputs": [
    {
     "data": {
      "text/plain": [
       "[0,\n",
       " 1,\n",
       " 2,\n",
       " 0,\n",
       " 3,\n",
       " 4,\n",
       " 5,\n",
       " 6,\n",
       " 7,\n",
       " 2,\n",
       " 8,\n",
       " 0,\n",
       " 1,\n",
       " 0,\n",
       " 9,\n",
       " 1,\n",
       " 10,\n",
       " 11,\n",
       " 8,\n",
       " 1,\n",
       " 0,\n",
       " 0,\n",
       " 11,\n",
       " 7,\n",
       " 6,\n",
       " 7,\n",
       " 2,\n",
       " 8,\n",
       " 0,\n",
       " 1,\n",
       " 10,\n",
       " 12,\n",
       " 10,\n",
       " 13,\n",
       " 8,\n",
       " 9,\n",
       " 14]"
      ]
     },
     "execution_count": 11,
     "metadata": {},
     "output_type": "execute_result"
    }
   ],
   "source": [
    "Ytrain[0]"
   ]
  },
  {
   "cell_type": "code",
   "execution_count": null,
   "metadata": {
    "collapsed": true
   },
   "outputs": [],
   "source": []
  }
 ],
 "metadata": {
  "anaconda-cloud": {},
  "kernelspec": {
   "display_name": "Python [py27]",
   "language": "python",
   "name": "Python [py27]"
  },
  "language_info": {
   "codemirror_mode": {
    "name": "ipython",
    "version": 2
   },
   "file_extension": ".py",
   "mimetype": "text/x-python",
   "name": "python",
   "nbconvert_exporter": "python",
   "pygments_lexer": "ipython2",
   "version": "2.7.12"
  }
 },
 "nbformat": 4,
 "nbformat_minor": 0
}
