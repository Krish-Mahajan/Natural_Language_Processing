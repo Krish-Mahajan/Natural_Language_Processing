{
 "cells": [
  {
   "cell_type": "markdown",
   "metadata": {},
   "source": [
    "# SEO and Bounce Rate Optimization"
   ]
  },
  {
   "cell_type": "markdown",
   "metadata": {},
   "source": [
    "- You have a website \n",
    "- You want to increase conversions,increase traffic, avoid high bounce rate  \n",
    "- Without even looking at code,we can think about how a Markov model could be used "
   ]
  },
  {
   "cell_type": "markdown",
   "metadata": {},
   "source": [
    "### Arrival   \n",
    "How do people get to your page? Home page? Landing Page?  \n",
    "\n",
    "THis is just pi  \n",
    "\n",
    "### Sequences of pages  \n",
    "Landing page $\\rightarrow$ buy button $\\rightarrow$ checkout $\\rightarrow$ close browser  \n",
    "\n",
    "We can check probability to confirm validity of that sequence  \n",
    "Longer sequence == more multiplication == smaller number  \n",
    "\n",
    "### 2 alternatives   \n",
    "- Compare 2 sequences log probability (then actual value of probability doesn't matter)  \n",
    "- Consider just the state transitions (one I've added to cart , what's the probability of checking out?)  "
   ]
  },
  {
   "cell_type": "markdown",
   "metadata": {},
   "source": [
    "# Data "
   ]
  },
  {
   "cell_type": "markdown",
   "metadata": {},
   "source": [
    "**File**: site_data.csv  \n",
    "**2 columns**: last_page_id,next_page_id   \n",
    "**10 pages,IDs** : 0..9  \n",
    "**start pages have last_page_id** =-1 \n",
    "**End pages** will have B(bounce) or C(close)  "
   ]
  },
  {
   "cell_type": "code",
   "execution_count": 1,
   "metadata": {
    "collapsed": true
   },
   "outputs": [],
   "source": [
    "import numpy as np \n",
    "import pandas as pd"
   ]
  },
  {
   "cell_type": "code",
   "execution_count": 4,
   "metadata": {
    "collapsed": true
   },
   "outputs": [],
   "source": [
    "data = pd.read_csv(\"./data/site_bounce_rate/site_data.csv\",header=None)"
   ]
  },
  {
   "cell_type": "code",
   "execution_count": 5,
   "metadata": {
    "collapsed": false
   },
   "outputs": [
    {
     "data": {
      "text/html": [
       "<div>\n",
       "<table border=\"1\" class=\"dataframe\">\n",
       "  <thead>\n",
       "    <tr style=\"text-align: right;\">\n",
       "      <th></th>\n",
       "      <th>0</th>\n",
       "      <th>1</th>\n",
       "    </tr>\n",
       "  </thead>\n",
       "  <tbody>\n",
       "    <tr>\n",
       "      <th>0</th>\n",
       "      <td>-1</td>\n",
       "      <td>8</td>\n",
       "    </tr>\n",
       "    <tr>\n",
       "      <th>1</th>\n",
       "      <td>4</td>\n",
       "      <td>8</td>\n",
       "    </tr>\n",
       "    <tr>\n",
       "      <th>2</th>\n",
       "      <td>-1</td>\n",
       "      <td>2</td>\n",
       "    </tr>\n",
       "    <tr>\n",
       "      <th>3</th>\n",
       "      <td>1</td>\n",
       "      <td>B</td>\n",
       "    </tr>\n",
       "    <tr>\n",
       "      <th>4</th>\n",
       "      <td>-1</td>\n",
       "      <td>5</td>\n",
       "    </tr>\n",
       "  </tbody>\n",
       "</table>\n",
       "</div>"
      ],
      "text/plain": [
       "   0  1\n",
       "0 -1  8\n",
       "1  4  8\n",
       "2 -1  2\n",
       "3  1  B\n",
       "4 -1  5"
      ]
     },
     "execution_count": 5,
     "metadata": {},
     "output_type": "execute_result"
    }
   ],
   "source": [
    "data.head() "
   ]
  },
  {
   "cell_type": "code",
   "execution_count": 6,
   "metadata": {
    "collapsed": false
   },
   "outputs": [
    {
     "data": {
      "text/plain": [
       "(100000, 2)"
      ]
     },
     "execution_count": 6,
     "metadata": {},
     "output_type": "execute_result"
    }
   ],
   "source": [
    "data.shape"
   ]
  },
  {
   "cell_type": "code",
   "execution_count": 4,
   "metadata": {
    "collapsed": false
   },
   "outputs": [
    {
     "name": "stdout",
     "output_type": "stream",
     "text": [
      "1 0.10348995316513068\n",
      "0 0.10298635241980159\n",
      "8 0.10152591025834719\n",
      "2 0.09507982071813466\n",
      "9 0.10384247368686106\n",
      "5 0.09779926474291183\n",
      "6 0.09800070504104345\n",
      "3 0.09513018079266758\n",
      "4 0.10243239159993957\n",
      "7 0.09971294757516241\n",
      "Bounce rate for 4: 0.1255756067205974\n",
      "Bounce rate for 6: 0.1208153180975911\n",
      "Bounce rate for 2: 0.12649551345962112\n",
      "Bounce rate for 8: 0.12529550827423167\n",
      "Bounce rate for 7: 0.12371650388179314\n",
      "Bounce rate for 3: 0.12743384922616077\n",
      "Bounce rate for 0: 0.1279673590504451\n",
      "Bounce rate for 5: 0.12369559684398065\n",
      "Bounce rate for 1: 0.125939617991374\n",
      "Bounce rate for 9: 0.13176232104396302\n"
     ]
    }
   ],
   "source": [
    "transitions = {} #transition dictionary of every unique start page,end page\n",
    "row_sum = {}  #just start state as the key \n",
    "\n",
    "# collect counts\n",
    "for line in open('./data/site_bounce_rate/site_data.csv'):\n",
    "    s,e = line.rstrip().split(',')\n",
    "    transitions[(s,e)] = transitions.get((s,e),0) + 1 \n",
    "    row_sum[s] = row_sum.get(s,0.) +1 \n",
    "\n",
    "# normalize (coverting Transition into probability distribution)\n",
    "for k,v in transitions.items():\n",
    "    s,e =k \n",
    "    transitions[k] = v / row_sum[s]\n",
    "    \n",
    "#initial state distribution \n",
    "for k,v in transitions.items():\n",
    "    s,e = k \n",
    "    if s== '-1':  #start of sequence\n",
    "        print(e,v) \n",
    "        \n",
    "#which page has the highest bounce?\n",
    "for k,v in transitions.items():\n",
    "    s,e= k\n",
    "    if e =='B':\n",
    "        print(\"Bounce rate for %s: %s\" %(s,v))\n",
    "        "
   ]
  },
  {
   "cell_type": "code",
   "execution_count": null,
   "metadata": {
    "collapsed": true
   },
   "outputs": [],
   "source": []
  }
 ],
 "metadata": {
  "anaconda-cloud": {},
  "kernelspec": {
   "display_name": "Python [Root]",
   "language": "python",
   "name": "Python [Root]"
  },
  "language_info": {
   "codemirror_mode": {
    "name": "ipython",
    "version": 3
   },
   "file_extension": ".py",
   "mimetype": "text/x-python",
   "name": "python",
   "nbconvert_exporter": "python",
   "pygments_lexer": "ipython3",
   "version": "3.5.2"
  }
 },
 "nbformat": 4,
 "nbformat_minor": 0
}
